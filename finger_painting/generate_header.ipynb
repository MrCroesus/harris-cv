{
  "cells": [
    {
      "cell_type": "code",
      "execution_count": 36,
      "metadata": {
        "id": "vKaKVokuM8em"
      },
      "outputs": [],
      "source": [
        "import numpy as np\n",
        "import skimage as sk\n",
        "import skimage.io as skio\n",
        "import matplotlib.pyplot as plt"
      ]
    },
    {
      "cell_type": "code",
      "execution_count": 37,
      "metadata": {
        "id": "AufcM1eP0C8B"
      },
      "outputs": [],
      "source": [
        "# name of the input file\n",
        "imname = 'header/header.png'\n",
        "\n",
        "# read in the image\n",
        "im = skio.imread(imname)\n",
        "\n",
        "# convert to double (might want to do this later on to save memory)\n",
        "# im = sk.img_as_float(im)"
      ]
    },
    {
      "cell_type": "code",
      "execution_count": 38,
      "metadata": {},
      "outputs": [],
      "source": [
        "def constrain(val, min_val, max_val):\n",
        "    return min(max(val, min_val), max_val)"
      ]
    },
    {
      "cell_type": "code",
      "execution_count": 39,
      "metadata": {
        "colab": {
          "base_uri": "https://localhost:8080/",
          "height": 385
        },
        "id": "Xqdop48lSk4q",
        "outputId": "684ab619-cd0d-4726-8f02-88389193dc94"
      },
      "outputs": [
        {
          "data": {
            "image/png": "[encoded data removed]",
            "text/plain": [
              "<Figure size 640x480 with 1 Axes>"
            ]
          },
          "metadata": {},
          "output_type": "display_data"
        }
      ],
      "source": [
        "height, width, _ = im.shape\n",
        "\n",
        "for x in range(980):\n",
        "    # calculate red\n",
        "    red = 315 - abs(x - 232.5)\n",
        "    red = constrain(red, 0, 255)\n",
        "\n",
        "    # calculate green\n",
        "    green = 315 - abs(x - 497.5)\n",
        "    green = constrain(green, 0, 255)\n",
        "\n",
        "    # calculate blue\n",
        "    blue = 315 - abs(x - 762.5)\n",
        "    blue = constrain(blue, 0, 255)\n",
        "\n",
        "    # calculate and apply color\n",
        "    color = np.reshape(np.array([red, green, blue, 255]), (1, 4))\n",
        "    im[:, x] = np.repeat(color, height, axis=0)\n",
        "\n",
        "plt.imshow(im)\n",
        "plt.show()\n",
        "fname = 'out_path/header.png'\n",
        "plt.imsave(fname, im)"
      ]
    },
    {
      "cell_type": "code",
      "execution_count": null,
      "metadata": {},
      "outputs": [],
      "source": []
    }
  ],
  "metadata": {
    "accelerator": "GPU",
    "colab": {
      "gpuType": "V100",
      "machine_shape": "hm",
      "provenance": []
    },
    "kernelspec": {
      "display_name": "Python 3",
      "name": "python3"
    },
    "language_info": {
      "codemirror_mode": {
        "name": "ipython",
        "version": 3
      },
      "file_extension": ".py",
      "mimetype": "text/x-python",
      "name": "python",
      "nbconvert_exporter": "python",
      "pygments_lexer": "ipython3",
      "version": "3.11.4"
    }
  },
  "nbformat": 4,
  "nbformat_minor": 0
}
